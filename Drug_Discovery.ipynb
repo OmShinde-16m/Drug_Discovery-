{
  "nbformat": 4,
  "nbformat_minor": 0,
  "metadata": {
    "colab": {
      "provenance": []
    },
    "kernelspec": {
      "name": "python3",
      "display_name": "Python 3"
    },
    "language_info": {
      "name": "python"
    }
  },
  "cells": [
    {
      "cell_type": "code",
      "source": [
        "# Install RDKit in Colab\n",
        "!pip install rdkit-pypi\n"
      ],
      "metadata": {
        "colab": {
          "base_uri": "https://localhost:8080/"
        },
        "id": "QUO6dUm9IYOy",
        "outputId": "9098acb4-1df1-4424-a307-553d9802ba8a"
      },
      "execution_count": null,
      "outputs": [
        {
          "output_type": "stream",
          "name": "stdout",
          "text": [
            "Collecting rdkit-pypi\n",
            "  Downloading rdkit_pypi-2022.9.5-cp311-cp311-manylinux_2_17_x86_64.manylinux2014_x86_64.whl.metadata (3.9 kB)\n",
            "Requirement already satisfied: numpy in /usr/local/lib/python3.11/dist-packages (from rdkit-pypi) (2.0.2)\n",
            "Requirement already satisfied: Pillow in /usr/local/lib/python3.11/dist-packages (from rdkit-pypi) (11.2.1)\n",
            "Downloading rdkit_pypi-2022.9.5-cp311-cp311-manylinux_2_17_x86_64.manylinux2014_x86_64.whl (29.4 MB)\n",
            "\u001b[2K   \u001b[90m━━━━━━━━━━━━━━━━━━━━━━━━━━━━━━━━━━━━━━━━\u001b[0m \u001b[32m29.4/29.4 MB\u001b[0m \u001b[31m74.7 MB/s\u001b[0m eta \u001b[36m0:00:00\u001b[0m\n",
            "\u001b[?25hInstalling collected packages: rdkit-pypi\n",
            "Successfully installed rdkit-pypi-2022.9.5\n"
          ]
        }
      ]
    },
    {
      "cell_type": "code",
      "source": [
        "import numpy as np\n",
        "import pandas as pd\n",
        "from rdkit.Chem import AllChem\n",
        "\n",
        "from sklearn.model_selection import train_test_split, StratifiedKFold\n",
        "from sklearn.metrics import accuracy_score, roc_auc_score, classification_report, confusion_matrix\n",
        "\n",
        "import tensorflow as tf\n",
        "from tensorflow import keras\n",
        "\n",
        "import matplotlib.pyplot as plt\n",
        "import seaborn as sns\n"
      ],
      "metadata": {
        "id": "D40zNLzp21Y2"
      },
      "execution_count": null,
      "outputs": []
    },
    {
      "cell_type": "code",
      "source": [
        "from google.colab import files\n",
        "\n",
        "uploaded = files.upload()  # This will prompt you to select your SDF file\n"
      ],
      "metadata": {
        "colab": {
          "base_uri": "https://localhost:8080/",
          "height": 73
        },
        "id": "7tKbz7U4_WxW",
        "outputId": "10b33775-1e90-487f-d962-b5883ac31236"
      },
      "execution_count": null,
      "outputs": [
        {
          "output_type": "display_data",
          "data": {
            "text/plain": [
              "<IPython.core.display.HTML object>"
            ],
            "text/html": [
              "\n",
              "     <input type=\"file\" id=\"files-fdc06573-39f9-4c04-a36e-39aaedcf3eba\" name=\"files[]\" multiple disabled\n",
              "        style=\"border:none\" />\n",
              "     <output id=\"result-fdc06573-39f9-4c04-a36e-39aaedcf3eba\">\n",
              "      Upload widget is only available when the cell has been executed in the\n",
              "      current browser session. Please rerun this cell to enable.\n",
              "      </output>\n",
              "      <script>// Copyright 2017 Google LLC\n",
              "//\n",
              "// Licensed under the Apache License, Version 2.0 (the \"License\");\n",
              "// you may not use this file except in compliance with the License.\n",
              "// You may obtain a copy of the License at\n",
              "//\n",
              "//      http://www.apache.org/licenses/LICENSE-2.0\n",
              "//\n",
              "// Unless required by applicable law or agreed to in writing, software\n",
              "// distributed under the License is distributed on an \"AS IS\" BASIS,\n",
              "// WITHOUT WARRANTIES OR CONDITIONS OF ANY KIND, either express or implied.\n",
              "// See the License for the specific language governing permissions and\n",
              "// limitations under the License.\n",
              "\n",
              "/**\n",
              " * @fileoverview Helpers for google.colab Python module.\n",
              " */\n",
              "(function(scope) {\n",
              "function span(text, styleAttributes = {}) {\n",
              "  const element = document.createElement('span');\n",
              "  element.textContent = text;\n",
              "  for (const key of Object.keys(styleAttributes)) {\n",
              "    element.style[key] = styleAttributes[key];\n",
              "  }\n",
              "  return element;\n",
              "}\n",
              "\n",
              "// Max number of bytes which will be uploaded at a time.\n",
              "const MAX_PAYLOAD_SIZE = 100 * 1024;\n",
              "\n",
              "function _uploadFiles(inputId, outputId) {\n",
              "  const steps = uploadFilesStep(inputId, outputId);\n",
              "  const outputElement = document.getElementById(outputId);\n",
              "  // Cache steps on the outputElement to make it available for the next call\n",
              "  // to uploadFilesContinue from Python.\n",
              "  outputElement.steps = steps;\n",
              "\n",
              "  return _uploadFilesContinue(outputId);\n",
              "}\n",
              "\n",
              "// This is roughly an async generator (not supported in the browser yet),\n",
              "// where there are multiple asynchronous steps and the Python side is going\n",
              "// to poll for completion of each step.\n",
              "// This uses a Promise to block the python side on completion of each step,\n",
              "// then passes the result of the previous step as the input to the next step.\n",
              "function _uploadFilesContinue(outputId) {\n",
              "  const outputElement = document.getElementById(outputId);\n",
              "  const steps = outputElement.steps;\n",
              "\n",
              "  const next = steps.next(outputElement.lastPromiseValue);\n",
              "  return Promise.resolve(next.value.promise).then((value) => {\n",
              "    // Cache the last promise value to make it available to the next\n",
              "    // step of the generator.\n",
              "    outputElement.lastPromiseValue = value;\n",
              "    return next.value.response;\n",
              "  });\n",
              "}\n",
              "\n",
              "/**\n",
              " * Generator function which is called between each async step of the upload\n",
              " * process.\n",
              " * @param {string} inputId Element ID of the input file picker element.\n",
              " * @param {string} outputId Element ID of the output display.\n",
              " * @return {!Iterable<!Object>} Iterable of next steps.\n",
              " */\n",
              "function* uploadFilesStep(inputId, outputId) {\n",
              "  const inputElement = document.getElementById(inputId);\n",
              "  inputElement.disabled = false;\n",
              "\n",
              "  const outputElement = document.getElementById(outputId);\n",
              "  outputElement.innerHTML = '';\n",
              "\n",
              "  const pickedPromise = new Promise((resolve) => {\n",
              "    inputElement.addEventListener('change', (e) => {\n",
              "      resolve(e.target.files);\n",
              "    });\n",
              "  });\n",
              "\n",
              "  const cancel = document.createElement('button');\n",
              "  inputElement.parentElement.appendChild(cancel);\n",
              "  cancel.textContent = 'Cancel upload';\n",
              "  const cancelPromise = new Promise((resolve) => {\n",
              "    cancel.onclick = () => {\n",
              "      resolve(null);\n",
              "    };\n",
              "  });\n",
              "\n",
              "  // Wait for the user to pick the files.\n",
              "  const files = yield {\n",
              "    promise: Promise.race([pickedPromise, cancelPromise]),\n",
              "    response: {\n",
              "      action: 'starting',\n",
              "    }\n",
              "  };\n",
              "\n",
              "  cancel.remove();\n",
              "\n",
              "  // Disable the input element since further picks are not allowed.\n",
              "  inputElement.disabled = true;\n",
              "\n",
              "  if (!files) {\n",
              "    return {\n",
              "      response: {\n",
              "        action: 'complete',\n",
              "      }\n",
              "    };\n",
              "  }\n",
              "\n",
              "  for (const file of files) {\n",
              "    const li = document.createElement('li');\n",
              "    li.append(span(file.name, {fontWeight: 'bold'}));\n",
              "    li.append(span(\n",
              "        `(${file.type || 'n/a'}) - ${file.size} bytes, ` +\n",
              "        `last modified: ${\n",
              "            file.lastModifiedDate ? file.lastModifiedDate.toLocaleDateString() :\n",
              "                                    'n/a'} - `));\n",
              "    const percent = span('0% done');\n",
              "    li.appendChild(percent);\n",
              "\n",
              "    outputElement.appendChild(li);\n",
              "\n",
              "    const fileDataPromise = new Promise((resolve) => {\n",
              "      const reader = new FileReader();\n",
              "      reader.onload = (e) => {\n",
              "        resolve(e.target.result);\n",
              "      };\n",
              "      reader.readAsArrayBuffer(file);\n",
              "    });\n",
              "    // Wait for the data to be ready.\n",
              "    let fileData = yield {\n",
              "      promise: fileDataPromise,\n",
              "      response: {\n",
              "        action: 'continue',\n",
              "      }\n",
              "    };\n",
              "\n",
              "    // Use a chunked sending to avoid message size limits. See b/62115660.\n",
              "    let position = 0;\n",
              "    do {\n",
              "      const length = Math.min(fileData.byteLength - position, MAX_PAYLOAD_SIZE);\n",
              "      const chunk = new Uint8Array(fileData, position, length);\n",
              "      position += length;\n",
              "\n",
              "      const base64 = btoa(String.fromCharCode.apply(null, chunk));\n",
              "      yield {\n",
              "        response: {\n",
              "          action: 'append',\n",
              "          file: file.name,\n",
              "          data: base64,\n",
              "        },\n",
              "      };\n",
              "\n",
              "      let percentDone = fileData.byteLength === 0 ?\n",
              "          100 :\n",
              "          Math.round((position / fileData.byteLength) * 100);\n",
              "      percent.textContent = `${percentDone}% done`;\n",
              "\n",
              "    } while (position < fileData.byteLength);\n",
              "  }\n",
              "\n",
              "  // All done.\n",
              "  yield {\n",
              "    response: {\n",
              "      action: 'complete',\n",
              "    }\n",
              "  };\n",
              "}\n",
              "\n",
              "scope.google = scope.google || {};\n",
              "scope.google.colab = scope.google.colab || {};\n",
              "scope.google.colab._files = {\n",
              "  _uploadFiles,\n",
              "  _uploadFilesContinue,\n",
              "};\n",
              "})(self);\n",
              "</script> "
            ]
          },
          "metadata": {}
        },
        {
          "output_type": "stream",
          "name": "stdout",
          "text": [
            "Saving archive (5).zip to archive (5).zip\n"
          ]
        }
      ]
    },
    {
      "cell_type": "code",
      "source": [
        "import zipfile\n",
        "\n",
        "zip_path = '/content/archive (5).zip'  # Path to your uploaded zip file\n",
        "\n",
        "with zipfile.ZipFile(zip_path, 'r') as zip_ref:\n",
        "    zip_ref.extractall('/content/')  # Extracts to /content/\n"
      ],
      "metadata": {
        "id": "-D5i4ulhJ4-S"
      },
      "execution_count": null,
      "outputs": []
    },
    {
      "cell_type": "code",
      "source": [
        "import os\n",
        "\n",
        "for root, dirs, files in os.walk('/content/'):\n",
        "    for file in files:\n",
        "        if file.endswith('.sdf'):\n",
        "            print(os.path.join(root, file))\n"
      ],
      "metadata": {
        "colab": {
          "base_uri": "https://localhost:8080/"
        },
        "id": "TFkVmhZ6J8lI",
        "outputId": "5b56ef31-efdc-4796-d8b5-65d9559e1bc8"
      },
      "execution_count": null,
      "outputs": [
        {
          "output_type": "stream",
          "name": "stdout",
          "text": [
            "/content/tox21.sdf\n"
          ]
        }
      ]
    },
    {
      "cell_type": "code",
      "execution_count": null,
      "metadata": {
        "colab": {
          "base_uri": "https://localhost:8080/"
        },
        "id": "9D1TYJ2GxeoH",
        "outputId": "fd8e7d5b-24e4-431c-8daa-fe749dbbdda6"
      },
      "outputs": [
        {
          "output_type": "stream",
          "name": "stderr",
          "text": [
            "[06:24:33] Explicit valence for atom # 3 Cl, 2, is greater than permitted\n",
            "[06:24:33] ERROR: Could not sanitize molecule ending on line 21572\n",
            "[06:24:33] ERROR: Explicit valence for atom # 3 Cl, 2, is greater than permitted\n",
            "[06:24:34] Explicit valence for atom # 2 Si, 8, is greater than permitted\n",
            "[06:24:34] ERROR: Could not sanitize molecule ending on line 346021\n",
            "[06:24:34] ERROR: Explicit valence for atom # 2 Si, 8, is greater than permitted\n",
            "[06:24:34] Explicit valence for atom # 3 Cl, 2, is greater than permitted\n",
            "[06:24:34] ERROR: Could not sanitize molecule ending on line 446665\n",
            "[06:24:34] ERROR: Explicit valence for atom # 3 Cl, 2, is greater than permitted\n",
            "[06:24:34] Explicit valence for atom # 1 Cl, 2, is greater than permitted\n",
            "[06:24:34] ERROR: Could not sanitize molecule ending on line 619150\n",
            "[06:24:34] ERROR: Explicit valence for atom # 1 Cl, 2, is greater than permitted\n",
            "[06:24:34] WARNING: not removing hydrogen atom without neighbors\n",
            "[06:24:34] Explicit valence for atom # 2 Si, 8, is greater than permitted\n",
            "[06:24:34] ERROR: Could not sanitize molecule ending on line 810094\n",
            "[06:24:34] ERROR: Explicit valence for atom # 2 Si, 8, is greater than permitted\n",
            "[06:24:35] Explicit valence for atom # 20 O, 3, is greater than permitted\n",
            "[06:24:35] ERROR: Could not sanitize molecule ending on line 951171\n",
            "[06:24:35] ERROR: Explicit valence for atom # 20 O, 3, is greater than permitted\n",
            "[06:24:35] Can't kekulize mol.  Unkekulized atoms: 1 2 5 6 7\n",
            "[06:24:35] ERROR: Could not sanitize molecule ending on line 980541\n",
            "[06:24:35] ERROR: Can't kekulize mol.  Unkekulized atoms: 1 2 5 6 7\n",
            "[06:24:35] Can't kekulize mol.  Unkekulized atoms: 0 1 2 3 4 5 6 7 8\n",
            "[06:24:35] ERROR: Could not sanitize molecule ending on line 982218\n",
            "[06:24:35] ERROR: Can't kekulize mol.  Unkekulized atoms: 0 1 2 3 4 5 6 7 8\n"
          ]
        },
        {
          "output_type": "stream",
          "name": "stdout",
          "text": [
            "         Formula                                                 FW  \\\n",
            "0     C27H25ClN6               468.9806 (35.4535+224.2805+209.2465)   \n",
            "1  C20H6Br4Na2O5                691.8542 (645.8757+22.9892+22.9892)   \n",
            "2     C47H83NO17                        934.1584 (916.1205+18.0379)   \n",
            "3    C52H54N4O12  927.0048 (329.4575+89.0275+89.0275+329.4575+90...   \n",
            "4   C66H87N17O14                      1342.5025 (1282.4505+60.0520)   \n",
            "\n",
            "   DSSTox_CID  SR-HSE                                             ROMol  \\\n",
            "0     25848.0     0.0  <rdkit.Chem.rdchem.Mol object at 0x7e8e626caf10>   \n",
            "1      5234.0     0.0  <rdkit.Chem.rdchem.Mol object at 0x7e8e626caea0>   \n",
            "2     28909.0     0.0  <rdkit.Chem.rdchem.Mol object at 0x7e8e626caf80>   \n",
            "3      5513.0     1.0  <rdkit.Chem.rdchem.Mol object at 0x7e8e626cb0d0>   \n",
            "4     26683.0     NaN  <rdkit.Chem.rdchem.Mol object at 0x7e8e626caff0>   \n",
            "\n",
            "   NR-AR  SR-ARE  NR-Aromatase  NR-ER-LBD  NR-AhR  ...  NR-PPAR-gamma  SR-p53  \\\n",
            "0    NaN     NaN           NaN        NaN     NaN  ...            NaN     NaN   \n",
            "1    NaN     NaN           NaN        NaN     NaN  ...            NaN     NaN   \n",
            "2    NaN     NaN           NaN        NaN     NaN  ...            NaN     NaN   \n",
            "3    NaN     NaN           NaN        NaN     NaN  ...            NaN     NaN   \n",
            "4    0.0     NaN           NaN        NaN     NaN  ...            NaN     NaN   \n",
            "\n",
            "   SR-ATAD5  NR-AR-LBD  Compound ID  Compound Batch ID Sample ID  \\\n",
            "0       NaN        NaN          NaN                NaN       NaN   \n",
            "1       NaN        NaN          NaN                NaN       NaN   \n",
            "2       NaN        NaN          NaN                NaN       NaN   \n",
            "3       NaN        NaN          NaN                NaN       NaN   \n",
            "4       NaN        NaN          NaN                NaN       NaN   \n",
            "\n",
            "  Stoichiometry Alt ID  PUBCHEM_SID  \n",
            "0           NaN    NaN          NaN  \n",
            "1           NaN    NaN          NaN  \n",
            "2           NaN    NaN          NaN  \n",
            "3           NaN    NaN          NaN  \n",
            "4           NaN    NaN          NaN  \n",
            "\n",
            "[5 rows x 22 columns]\n"
          ]
        }
      ],
      "source": [
        "from rdkit import Chem\n",
        "import pandas as pd\n",
        "\n",
        "sdf_path = '/content/tox21.sdf'  # Update this if the path is different\n",
        "\n",
        "suppl = Chem.SDMolSupplier(sdf_path)\n",
        "mols = [mol for mol in suppl if mol is not None]\n",
        "\n",
        "data = []\n",
        "for mol in mols:\n",
        "    props = mol.GetPropsAsDict()\n",
        "    props['ROMol'] = mol\n",
        "    data.append(props)\n",
        "\n",
        "df = pd.DataFrame(data)\n",
        "print(df.head())\n"
      ]
    },
    {
      "cell_type": "code",
      "source": [
        "target_col = 'NR-AR'  # You can change this to any other assay column if you wish\n"
      ],
      "metadata": {
        "id": "cBLxdQndxlRG"
      },
      "execution_count": null,
      "outputs": []
    },
    {
      "cell_type": "code",
      "source": [
        "# Drop rows where target is missing\n",
        "df = df[df[target_col].notnull()]\n",
        "\n",
        "# Convert target to integer (assuming it's binary: 0/1 or -1/1)\n",
        "df[target_col] = df[target_col].astype(int)\n",
        "\n",
        "# Convert molecules to fingerprints\n",
        "import numpy as np\n",
        "from rdkit.Chem import AllChem\n",
        "\n",
        "def mol_to_fp(mol, radius=2, nBits=2048):\n",
        "    return np.array(AllChem.GetMorganFingerprintAsBitVect(mol, radius, nBits=nBits))\n",
        "\n",
        "X = np.stack(df['ROMol'].apply(mol_to_fp))\n",
        "y = df[target_col].values\n"
      ],
      "metadata": {
        "colab": {
          "base_uri": "https://localhost:8080/"
        },
        "id": "fLZXSjKlx1Mp",
        "outputId": "6e5f5e60-d91a-44d5-909f-fa11c33dff63"
      },
      "execution_count": null,
      "outputs": [
        {
          "output_type": "stream",
          "name": "stderr",
          "text": [
            "/tmp/ipython-input-17-2474173164.py:5: SettingWithCopyWarning: \n",
            "A value is trying to be set on a copy of a slice from a DataFrame.\n",
            "Try using .loc[row_indexer,col_indexer] = value instead\n",
            "\n",
            "See the caveats in the documentation: https://pandas.pydata.org/pandas-docs/stable/user_guide/indexing.html#returning-a-view-versus-a-copy\n",
            "  df[target_col] = df[target_col].astype(int)\n"
          ]
        }
      ]
    },
    {
      "cell_type": "code",
      "source": [
        "X_train, X_test, y_train, y_test = train_test_split(\n",
        "    X, y, test_size=0.2, random_state=42, stratify=y\n",
        ")\n"
      ],
      "metadata": {
        "id": "b5TGQorj0Pmh"
      },
      "execution_count": null,
      "outputs": []
    },
    {
      "cell_type": "code",
      "source": [
        "kf = StratifiedKFold(n_splits=5, shuffle=True, random_state=42)\n",
        "accuracies = []\n",
        "auc_scores = []\n",
        "\n",
        "for fold, (train_index, val_index) in enumerate(kf.split(X_train, y_train)):\n",
        "    print(f\"Fold {fold+1}\")\n",
        "    X_tr, X_val = X_train[train_index], X_train[val_index]\n",
        "    y_tr, y_val = y_train[train_index], y_train[val_index]\n",
        "\n",
        "    model = keras.Sequential([\n",
        "        keras.layers.Input(shape=(X_tr.shape[1],)),\n",
        "        keras.layers.Dense(256, activation='relu'),\n",
        "        keras.layers.Dropout(0.4),\n",
        "        keras.layers.Dense(128, activation='relu'),\n",
        "        keras.layers.Dropout(0.4),\n",
        "        keras.layers.Dense(1, activation='sigmoid')\n",
        "    ])\n",
        "\n",
        "    model.compile(\n",
        "        optimizer='adam',\n",
        "        loss='binary_crossentropy',\n",
        "        metrics=['accuracy', tf.keras.metrics.AUC()]\n",
        "    )\n",
        "\n",
        "    # Class weight to handle imbalance\n",
        "    class_weight = {0:1, 1:len(y_tr)/sum(y_tr)}\n",
        "\n",
        "    model.fit(X_tr, y_tr, epochs=15, batch_size=32, verbose=0, class_weight=class_weight)\n",
        "\n",
        "    y_val_pred = (model.predict(X_val).flatten() > 0.5).astype(int)\n",
        "    y_val_prob = model.predict(X_val).flatten()\n",
        "\n",
        "    acc = accuracy_score(y_val, y_val_pred)\n",
        "    auc = roc_auc_score(y_val, y_val_prob)\n",
        "\n",
        "    accuracies.append(acc)\n",
        "    auc_scores.append(auc)\n",
        "\n",
        "    print(f\"Accuracy: {acc:.4f}, ROC-AUC: {auc:.4f}\")\n",
        "\n",
        "print(\"\\nCross-validated accuracy: {:.2f}% (+/- {:.2f}%)\".format(np.mean(accuracies)*100, np.std(accuracies)*100))\n",
        "print(\"Cross-validated ROC-AUC: {:.2f} (+/- {:.2f})\".format(np.mean(auc_scores), np.std(auc_scores)))\n"
      ],
      "metadata": {
        "colab": {
          "base_uri": "https://localhost:8080/"
        },
        "id": "8ONC29-H1Gsw",
        "outputId": "0451fb19-8e3a-4867-cfb3-4cb4104fbf64"
      },
      "execution_count": null,
      "outputs": [
        {
          "output_type": "stream",
          "name": "stdout",
          "text": [
            "Fold 1\n",
            "\u001b[1m49/49\u001b[0m \u001b[32m━━━━━━━━━━━━━━━━━━━━\u001b[0m\u001b[37m\u001b[0m \u001b[1m0s\u001b[0m 3ms/step\n",
            "\u001b[1m49/49\u001b[0m \u001b[32m━━━━━━━━━━━━━━━━━━━━\u001b[0m\u001b[37m\u001b[0m \u001b[1m0s\u001b[0m 3ms/step\n",
            "Accuracy: 0.9573, ROC-AUC: 0.7241\n",
            "Fold 2\n",
            "\u001b[1m49/49\u001b[0m \u001b[32m━━━━━━━━━━━━━━━━━━━━\u001b[0m\u001b[37m\u001b[0m \u001b[1m0s\u001b[0m 2ms/step\n",
            "\u001b[1m49/49\u001b[0m \u001b[32m━━━━━━━━━━━━━━━━━━━━\u001b[0m\u001b[37m\u001b[0m \u001b[1m0s\u001b[0m 2ms/step\n",
            "Accuracy: 0.9618, ROC-AUC: 0.8305\n",
            "Fold 3\n",
            "\u001b[1m49/49\u001b[0m \u001b[32m━━━━━━━━━━━━━━━━━━━━\u001b[0m\u001b[37m\u001b[0m \u001b[1m0s\u001b[0m 5ms/step\n",
            "\u001b[1m49/49\u001b[0m \u001b[32m━━━━━━━━━━━━━━━━━━━━\u001b[0m\u001b[37m\u001b[0m \u001b[1m0s\u001b[0m 3ms/step\n",
            "Accuracy: 0.9631, ROC-AUC: 0.7680\n",
            "Fold 4\n",
            "\u001b[1m49/49\u001b[0m \u001b[32m━━━━━━━━━━━━━━━━━━━━\u001b[0m\u001b[37m\u001b[0m \u001b[1m0s\u001b[0m 4ms/step\n",
            "\u001b[1m49/49\u001b[0m \u001b[32m━━━━━━━━━━━━━━━━━━━━\u001b[0m\u001b[37m\u001b[0m \u001b[1m0s\u001b[0m 4ms/step\n",
            "Accuracy: 0.9592, ROC-AUC: 0.7321\n",
            "Fold 5\n",
            "\u001b[1m49/49\u001b[0m \u001b[32m━━━━━━━━━━━━━━━━━━━━\u001b[0m\u001b[37m\u001b[0m \u001b[1m0s\u001b[0m 3ms/step\n",
            "\u001b[1m49/49\u001b[0m \u001b[32m━━━━━━━━━━━━━━━━━━━━\u001b[0m\u001b[37m\u001b[0m \u001b[1m0s\u001b[0m 2ms/step\n",
            "Accuracy: 0.9546, ROC-AUC: 0.7488\n",
            "\n",
            "Cross-validated accuracy: 95.92% (+/- 0.30%)\n",
            "Cross-validated ROC-AUC: 0.76 (+/- 0.04)\n"
          ]
        }
      ]
    },
    {
      "cell_type": "code",
      "source": [
        "model = keras.Sequential([\n",
        "    keras.layers.Input(shape=(X_train.shape[1],)),\n",
        "    keras.layers.Dense(256, activation='relu'),\n",
        "    keras.layers.Dropout(0.4),\n",
        "    keras.layers.Dense(128, activation='relu'),\n",
        "    keras.layers.Dropout(0.4),\n",
        "    keras.layers.Dense(1, activation='sigmoid')\n",
        "])\n",
        "\n",
        "model.compile(\n",
        "    optimizer='adam',\n",
        "    loss='binary_crossentropy',\n",
        "    metrics=['accuracy', tf.keras.metrics.AUC()]\n",
        ")\n",
        "\n",
        "class_weight = {0:1, 1:len(y_train)/sum(y_train)}\n",
        "\n",
        "model.fit(X_train, y_train, epochs=15, batch_size=32, verbose=1, class_weight=class_weight)\n",
        "\n",
        "# Predict and evaluate on test set\n",
        "y_test_prob = model.predict(X_test).flatten()\n",
        "y_test_pred = (y_test_prob > 0.5).astype(int)\n",
        "\n",
        "print(\"Test set accuracy:\", accuracy_score(y_test, y_test_pred))\n",
        "print(\"Test set ROC-AUC:\", roc_auc_score(y_test, y_test_prob))\n",
        "print(\"Classification report:\\n\", classification_report(y_test, y_test_pred))\n"
      ],
      "metadata": {
        "colab": {
          "base_uri": "https://localhost:8080/"
        },
        "id": "NPOEPjek38CI",
        "outputId": "d2b481a8-ed70-447e-93b6-adb39e8d06fb"
      },
      "execution_count": null,
      "outputs": [
        {
          "output_type": "stream",
          "name": "stdout",
          "text": [
            "Epoch 1/15\n",
            "\u001b[1m242/242\u001b[0m \u001b[32m━━━━━━━━━━━━━━━━━━━━\u001b[0m\u001b[37m\u001b[0m \u001b[1m5s\u001b[0m 9ms/step - accuracy: 0.8625 - auc_5: 0.7062 - loss: 1.2385\n",
            "Epoch 2/15\n",
            "\u001b[1m242/242\u001b[0m \u001b[32m━━━━━━━━━━━━━━━━━━━━\u001b[0m\u001b[37m\u001b[0m \u001b[1m2s\u001b[0m 7ms/step - accuracy: 0.8638 - auc_5: 0.8554 - loss: 0.8080\n",
            "Epoch 3/15\n",
            "\u001b[1m242/242\u001b[0m \u001b[32m━━━━━━━━━━━━━━━━━━━━\u001b[0m\u001b[37m\u001b[0m \u001b[1m2s\u001b[0m 7ms/step - accuracy: 0.8997 - auc_5: 0.9614 - loss: 0.5119\n",
            "Epoch 4/15\n",
            "\u001b[1m242/242\u001b[0m \u001b[32m━━━━━━━━━━━━━━━━━━━━\u001b[0m\u001b[37m\u001b[0m \u001b[1m2s\u001b[0m 8ms/step - accuracy: 0.9538 - auc_5: 0.9846 - loss: 0.2953\n",
            "Epoch 5/15\n",
            "\u001b[1m242/242\u001b[0m \u001b[32m━━━━━━━━━━━━━━━━━━━━\u001b[0m\u001b[37m\u001b[0m \u001b[1m3s\u001b[0m 8ms/step - accuracy: 0.9656 - auc_5: 0.9907 - loss: 0.1909\n",
            "Epoch 6/15\n",
            "\u001b[1m242/242\u001b[0m \u001b[32m━━━━━━━━━━━━━━━━━━━━\u001b[0m\u001b[37m\u001b[0m \u001b[1m2s\u001b[0m 8ms/step - accuracy: 0.9689 - auc_5: 0.9949 - loss: 0.1619\n",
            "Epoch 7/15\n",
            "\u001b[1m242/242\u001b[0m \u001b[32m━━━━━━━━━━━━━━━━━━━━\u001b[0m\u001b[37m\u001b[0m \u001b[1m2s\u001b[0m 10ms/step - accuracy: 0.9776 - auc_5: 0.9961 - loss: 0.1424\n",
            "Epoch 8/15\n",
            "\u001b[1m242/242\u001b[0m \u001b[32m━━━━━━━━━━━━━━━━━━━━\u001b[0m\u001b[37m\u001b[0m \u001b[1m2s\u001b[0m 7ms/step - accuracy: 0.9759 - auc_5: 0.9964 - loss: 0.1281\n",
            "Epoch 9/15\n",
            "\u001b[1m242/242\u001b[0m \u001b[32m━━━━━━━━━━━━━━━━━━━━\u001b[0m\u001b[37m\u001b[0m \u001b[1m2s\u001b[0m 7ms/step - accuracy: 0.9796 - auc_5: 0.9971 - loss: 0.1113\n",
            "Epoch 10/15\n",
            "\u001b[1m242/242\u001b[0m \u001b[32m━━━━━━━━━━━━━━━━━━━━\u001b[0m\u001b[37m\u001b[0m \u001b[1m2s\u001b[0m 7ms/step - accuracy: 0.9825 - auc_5: 0.9975 - loss: 0.0935\n",
            "Epoch 11/15\n",
            "\u001b[1m242/242\u001b[0m \u001b[32m━━━━━━━━━━━━━━━━━━━━\u001b[0m\u001b[37m\u001b[0m \u001b[1m3s\u001b[0m 7ms/step - accuracy: 0.9773 - auc_5: 0.9928 - loss: 0.1119\n",
            "Epoch 12/15\n",
            "\u001b[1m242/242\u001b[0m \u001b[32m━━━━━━━━━━━━━━━━━━━━\u001b[0m\u001b[37m\u001b[0m \u001b[1m2s\u001b[0m 10ms/step - accuracy: 0.9837 - auc_5: 0.9982 - loss: 0.0767\n",
            "Epoch 13/15\n",
            "\u001b[1m242/242\u001b[0m \u001b[32m━━━━━━━━━━━━━━━━━━━━\u001b[0m\u001b[37m\u001b[0m \u001b[1m2s\u001b[0m 8ms/step - accuracy: 0.9809 - auc_5: 0.9979 - loss: 0.0815\n",
            "Epoch 14/15\n",
            "\u001b[1m242/242\u001b[0m \u001b[32m━━━━━━━━━━━━━━━━━━━━\u001b[0m\u001b[37m\u001b[0m \u001b[1m2s\u001b[0m 8ms/step - accuracy: 0.9863 - auc_5: 0.9977 - loss: 0.0827\n",
            "Epoch 15/15\n",
            "\u001b[1m242/242\u001b[0m \u001b[32m━━━━━━━━━━━━━━━━━━━━\u001b[0m\u001b[37m\u001b[0m \u001b[1m3s\u001b[0m 8ms/step - accuracy: 0.9838 - auc_5: 0.9968 - loss: 0.1177\n",
            "\u001b[1m61/61\u001b[0m \u001b[32m━━━━━━━━━━━━━━━━━━━━\u001b[0m\u001b[37m\u001b[0m \u001b[1m0s\u001b[0m 3ms/step\n",
            "Test set accuracy: 0.9585492227979274\n",
            "Test set ROC-AUC: 0.7617096880453599\n",
            "Classification report:\n",
            "               precision    recall  f1-score   support\n",
            "\n",
            "           0       0.98      0.98      0.98      1853\n",
            "           1       0.48      0.55      0.51        77\n",
            "\n",
            "    accuracy                           0.96      1930\n",
            "   macro avg       0.73      0.76      0.75      1930\n",
            "weighted avg       0.96      0.96      0.96      1930\n",
            "\n"
          ]
        }
      ]
    },
    {
      "cell_type": "code",
      "source": [
        "# Confusion Matrix\n",
        "cm = confusion_matrix(y_test, y_test_pred)\n",
        "sns.heatmap(cm, annot=True, fmt='d', cmap='Blues')\n",
        "plt.xlabel('Predicted')\n",
        "plt.ylabel('Actual')\n",
        "plt.title('Confusion Matrix')\n",
        "plt.show()\n",
        "\n",
        "# ROC Curve\n",
        "from sklearn.metrics import roc_curve, auc\n",
        "\n",
        "fpr, tpr, _ = roc_curve(y_test, y_test_prob)\n",
        "roc_auc = auc(fpr, tpr)\n",
        "\n",
        "plt.figure()\n",
        "plt.plot(fpr, tpr, color='darkorange', lw=2, label=f'ROC curve (area = {roc_auc:.2f})')\n",
        "plt.plot([0, 1], [0, 1], color='navy', lw=2, linestyle='--')\n",
        "plt.xlim([0, 1])\n",
        "plt.ylim([0, 1.05])\n",
        "plt.xlabel('False Positive Rate')\n",
        "plt.ylabel('True Positive Rate')\n",
        "plt.title('Receiver Operating Characteristic')\n",
        "plt.legend(loc='lower right')\n",
        "plt.show()\n"
      ],
      "metadata": {
        "colab": {
          "base_uri": "https://localhost:8080/",
          "height": 927
        },
        "id": "wpgWaDva4Hur",
        "outputId": "3e40c8d9-60c0-406e-fc5d-a0aa0ea0031a"
      },
      "execution_count": null,
      "outputs": [
        {
          "output_type": "display_data",
          "data": {
            "text/plain": [
              "<Figure size 640x480 with 2 Axes>"
            ],
            "image/png": "[encoded data removed]"
          },
          "metadata": {}
        },
        {
          "output_type": "display_data",
          "data": {
            "text/plain": [
              "<Figure size 640x480 with 1 Axes>"
            ],
            "image/png": "[encoded data removed]"
          },
          "metadata": {}
        }
      ]
    },
    {
      "cell_type": "code",
      "source": [],
      "metadata": {
        "id": "x-ss6ks04M21"
      },
      "execution_count": null,
      "outputs": []
    }
  ]
}